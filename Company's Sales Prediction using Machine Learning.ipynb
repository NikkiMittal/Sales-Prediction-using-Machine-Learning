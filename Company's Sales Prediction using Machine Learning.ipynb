{
 "cells": [
  {
   "cell_type": "markdown",
   "id": "2dbbf598",
   "metadata": {},
   "source": [
    "# Sales Prediction Using Machine Learning"
   ]
  },
  {
   "cell_type": "code",
   "execution_count": 79,
   "id": "93930139",
   "metadata": {},
   "outputs": [],
   "source": [
    "#Importing the required libraries:\n",
    "  \n",
    "import numpy as np\n",
    "import pandas as pd\n",
    "import matplotlib.pyplot as plt\n",
    "import seaborn as sns\n",
    "%matplotlib inline\n"
   ]
  },
  {
   "cell_type": "code",
   "execution_count": 80,
   "id": "625aa3fe",
   "metadata": {},
   "outputs": [
    {
     "name": "stdout",
     "output_type": "stream",
     "text": [
      "(200, 4)\n"
     ]
    },
    {
     "data": {
      "text/html": [
       "<div>\n",
       "<style scoped>\n",
       "    .dataframe tbody tr th:only-of-type {\n",
       "        vertical-align: middle;\n",
       "    }\n",
       "\n",
       "    .dataframe tbody tr th {\n",
       "        vertical-align: top;\n",
       "    }\n",
       "\n",
       "    .dataframe thead th {\n",
       "        text-align: right;\n",
       "    }\n",
       "</style>\n",
       "<table border=\"1\" class=\"dataframe\">\n",
       "  <thead>\n",
       "    <tr style=\"text-align: right;\">\n",
       "      <th></th>\n",
       "      <th>TV Ad Budget ($)</th>\n",
       "      <th>Radio Ad Budget ($)</th>\n",
       "      <th>Newspaper Ad Budget ($)</th>\n",
       "      <th>Sales ($)</th>\n",
       "    </tr>\n",
       "  </thead>\n",
       "  <tbody>\n",
       "    <tr>\n",
       "      <th>0</th>\n",
       "      <td>230.1</td>\n",
       "      <td>37.8</td>\n",
       "      <td>69.2</td>\n",
       "      <td>22.1</td>\n",
       "    </tr>\n",
       "    <tr>\n",
       "      <th>1</th>\n",
       "      <td>44.5</td>\n",
       "      <td>39.3</td>\n",
       "      <td>45.1</td>\n",
       "      <td>10.4</td>\n",
       "    </tr>\n",
       "    <tr>\n",
       "      <th>2</th>\n",
       "      <td>17.2</td>\n",
       "      <td>45.9</td>\n",
       "      <td>69.3</td>\n",
       "      <td>9.3</td>\n",
       "    </tr>\n",
       "    <tr>\n",
       "      <th>3</th>\n",
       "      <td>151.5</td>\n",
       "      <td>41.3</td>\n",
       "      <td>58.5</td>\n",
       "      <td>18.5</td>\n",
       "    </tr>\n",
       "    <tr>\n",
       "      <th>4</th>\n",
       "      <td>180.8</td>\n",
       "      <td>10.8</td>\n",
       "      <td>58.4</td>\n",
       "      <td>12.9</td>\n",
       "    </tr>\n",
       "  </tbody>\n",
       "</table>\n",
       "</div>"
      ],
      "text/plain": [
       "   TV Ad Budget ($)  Radio Ad Budget ($)  Newspaper Ad Budget ($)  Sales ($)\n",
       "0             230.1                 37.8                     69.2       22.1\n",
       "1              44.5                 39.3                     45.1       10.4\n",
       "2              17.2                 45.9                     69.3        9.3\n",
       "3             151.5                 41.3                     58.5       18.5\n",
       "4             180.8                 10.8                     58.4       12.9"
      ]
     },
     "execution_count": 80,
     "metadata": {},
     "output_type": "execute_result"
    }
   ],
   "source": [
    "#Reading data:\n",
    "\n",
    "data = pd.read_csv('Sales_Data.csv')\n",
    "print(data.shape)                  #printing the number of rows and columns respectively\n",
    "data.head(5)                       #printing the top 5 rows"
   ]
  },
  {
   "cell_type": "code",
   "execution_count": 81,
   "id": "59ce2a8f",
   "metadata": {},
   "outputs": [
    {
     "data": {
      "text/html": [
       "<div>\n",
       "<style scoped>\n",
       "    .dataframe tbody tr th:only-of-type {\n",
       "        vertical-align: middle;\n",
       "    }\n",
       "\n",
       "    .dataframe tbody tr th {\n",
       "        vertical-align: top;\n",
       "    }\n",
       "\n",
       "    .dataframe thead th {\n",
       "        text-align: right;\n",
       "    }\n",
       "</style>\n",
       "<table border=\"1\" class=\"dataframe\">\n",
       "  <thead>\n",
       "    <tr style=\"text-align: right;\">\n",
       "      <th></th>\n",
       "      <th>TV Ad Budget ($)</th>\n",
       "      <th>Radio Ad Budget ($)</th>\n",
       "      <th>Newspaper Ad Budget ($)</th>\n",
       "      <th>Sales ($)</th>\n",
       "    </tr>\n",
       "  </thead>\n",
       "  <tbody>\n",
       "    <tr>\n",
       "      <th>count</th>\n",
       "      <td>200.000000</td>\n",
       "      <td>200.000000</td>\n",
       "      <td>200.000000</td>\n",
       "      <td>200.000000</td>\n",
       "    </tr>\n",
       "    <tr>\n",
       "      <th>mean</th>\n",
       "      <td>147.042500</td>\n",
       "      <td>23.264000</td>\n",
       "      <td>30.554000</td>\n",
       "      <td>14.022500</td>\n",
       "    </tr>\n",
       "    <tr>\n",
       "      <th>std</th>\n",
       "      <td>85.854236</td>\n",
       "      <td>14.846809</td>\n",
       "      <td>21.778621</td>\n",
       "      <td>5.217457</td>\n",
       "    </tr>\n",
       "    <tr>\n",
       "      <th>min</th>\n",
       "      <td>0.700000</td>\n",
       "      <td>0.000000</td>\n",
       "      <td>0.300000</td>\n",
       "      <td>1.600000</td>\n",
       "    </tr>\n",
       "    <tr>\n",
       "      <th>25%</th>\n",
       "      <td>74.375000</td>\n",
       "      <td>9.975000</td>\n",
       "      <td>12.750000</td>\n",
       "      <td>10.375000</td>\n",
       "    </tr>\n",
       "    <tr>\n",
       "      <th>50%</th>\n",
       "      <td>149.750000</td>\n",
       "      <td>22.900000</td>\n",
       "      <td>25.750000</td>\n",
       "      <td>12.900000</td>\n",
       "    </tr>\n",
       "    <tr>\n",
       "      <th>75%</th>\n",
       "      <td>218.825000</td>\n",
       "      <td>36.525000</td>\n",
       "      <td>45.100000</td>\n",
       "      <td>17.400000</td>\n",
       "    </tr>\n",
       "    <tr>\n",
       "      <th>max</th>\n",
       "      <td>296.400000</td>\n",
       "      <td>49.600000</td>\n",
       "      <td>114.000000</td>\n",
       "      <td>27.000000</td>\n",
       "    </tr>\n",
       "  </tbody>\n",
       "</table>\n",
       "</div>"
      ],
      "text/plain": [
       "       TV Ad Budget ($)  Radio Ad Budget ($)  Newspaper Ad Budget ($)  \\\n",
       "count        200.000000           200.000000               200.000000   \n",
       "mean         147.042500            23.264000                30.554000   \n",
       "std           85.854236            14.846809                21.778621   \n",
       "min            0.700000             0.000000                 0.300000   \n",
       "25%           74.375000             9.975000                12.750000   \n",
       "50%          149.750000            22.900000                25.750000   \n",
       "75%          218.825000            36.525000                45.100000   \n",
       "max          296.400000            49.600000               114.000000   \n",
       "\n",
       "        Sales ($)  \n",
       "count  200.000000  \n",
       "mean    14.022500  \n",
       "std      5.217457  \n",
       "min      1.600000  \n",
       "25%     10.375000  \n",
       "50%     12.900000  \n",
       "75%     17.400000  \n",
       "max     27.000000  "
      ]
     },
     "execution_count": 81,
     "metadata": {},
     "output_type": "execute_result"
    }
   ],
   "source": [
    "#Understanding the data more:\n",
    "\n",
    "data.describe()    #for statistical description of data"
   ]
  },
  {
   "cell_type": "code",
   "execution_count": 82,
   "id": "b2547ef8",
   "metadata": {},
   "outputs": [
    {
     "name": "stdout",
     "output_type": "stream",
     "text": [
      "<class 'pandas.core.frame.DataFrame'>\n",
      "RangeIndex: 200 entries, 0 to 199\n",
      "Data columns (total 4 columns):\n",
      " #   Column                   Non-Null Count  Dtype  \n",
      "---  ------                   --------------  -----  \n",
      " 0   TV Ad Budget ($)         200 non-null    float64\n",
      " 1   Radio Ad Budget ($)      200 non-null    float64\n",
      " 2   Newspaper Ad Budget ($)  200 non-null    float64\n",
      " 3   Sales ($)                200 non-null    float64\n",
      "dtypes: float64(4)\n",
      "memory usage: 6.4 KB\n"
     ]
    }
   ],
   "source": [
    "#To check the need of data cleaning:\n",
    "\n",
    "data.info()      #gathering information about the non null count and data type"
   ]
  },
  {
   "cell_type": "code",
   "execution_count": 83,
   "id": "19dfc999",
   "metadata": {},
   "outputs": [
    {
     "data": {
      "text/plain": [
       "TV Ad Budget ($)           0\n",
       "Radio Ad Budget ($)        0\n",
       "Newspaper Ad Budget ($)    0\n",
       "Sales ($)                  0\n",
       "dtype: int64"
      ]
     },
     "execution_count": 83,
     "metadata": {},
     "output_type": "execute_result"
    }
   ],
   "source": [
    "data.isnull().sum()     #checking if there is any null value"
   ]
  },
  {
   "cell_type": "markdown",
   "id": "563df26c",
   "metadata": {},
   "source": [
    "Here, we can clearly see that the dataset does not have any null or missing values."
   ]
  },
  {
   "cell_type": "code",
   "execution_count": 84,
   "id": "55ad22d3",
   "metadata": {},
   "outputs": [
    {
     "data": {
      "text/plain": [
       "<AxesSubplot:>"
      ]
     },
     "execution_count": 84,
     "metadata": {},
     "output_type": "execute_result"
    },
    {
     "data": {
      "image/png": "[encoded data removed]",
      "text/plain": [
       "<Figure size 432x288 with 2 Axes>"
      ]
     },
     "metadata": {
      "needs_background": "light"
     },
     "output_type": "display_data"
    }
   ],
   "source": [
    "sns.heatmap(data.isnull(), yticklabels = False)"
   ]
  },
  {
   "cell_type": "code",
   "execution_count": 85,
   "id": "fc6b1fdc",
   "metadata": {},
   "outputs": [
    {
     "data": {
      "text/plain": [
       "0      False\n",
       "1      False\n",
       "2      False\n",
       "3      False\n",
       "4      False\n",
       "       ...  \n",
       "195    False\n",
       "196    False\n",
       "197    False\n",
       "198    False\n",
       "199    False\n",
       "Length: 200, dtype: bool"
      ]
     },
     "execution_count": 85,
     "metadata": {},
     "output_type": "execute_result"
    }
   ],
   "source": [
    "#Checking if there is any duplicate value:\n",
    "\n",
    "data.duplicated()"
   ]
  },
  {
   "cell_type": "markdown",
   "id": "a5573c8b",
   "metadata": {},
   "source": [
    "The dataset doesn't have any duplicate values."
   ]
  },
  {
   "cell_type": "code",
   "execution_count": 86,
   "id": "e4ce9bc4",
   "metadata": {},
   "outputs": [
    {
     "data": {
      "text/html": [
       "<div>\n",
       "<style scoped>\n",
       "    .dataframe tbody tr th:only-of-type {\n",
       "        vertical-align: middle;\n",
       "    }\n",
       "\n",
       "    .dataframe tbody tr th {\n",
       "        vertical-align: top;\n",
       "    }\n",
       "\n",
       "    .dataframe thead th {\n",
       "        text-align: right;\n",
       "    }\n",
       "</style>\n",
       "<table border=\"1\" class=\"dataframe\">\n",
       "  <thead>\n",
       "    <tr style=\"text-align: right;\">\n",
       "      <th></th>\n",
       "      <th>TV_Ad_Budget</th>\n",
       "      <th>Radio_Ad_Budget</th>\n",
       "      <th>Newspaper_Ad_Budget</th>\n",
       "      <th>Sales</th>\n",
       "    </tr>\n",
       "  </thead>\n",
       "  <tbody>\n",
       "    <tr>\n",
       "      <th>0</th>\n",
       "      <td>230.1</td>\n",
       "      <td>37.8</td>\n",
       "      <td>69.2</td>\n",
       "      <td>22.1</td>\n",
       "    </tr>\n",
       "    <tr>\n",
       "      <th>1</th>\n",
       "      <td>44.5</td>\n",
       "      <td>39.3</td>\n",
       "      <td>45.1</td>\n",
       "      <td>10.4</td>\n",
       "    </tr>\n",
       "    <tr>\n",
       "      <th>2</th>\n",
       "      <td>17.2</td>\n",
       "      <td>45.9</td>\n",
       "      <td>69.3</td>\n",
       "      <td>9.3</td>\n",
       "    </tr>\n",
       "    <tr>\n",
       "      <th>3</th>\n",
       "      <td>151.5</td>\n",
       "      <td>41.3</td>\n",
       "      <td>58.5</td>\n",
       "      <td>18.5</td>\n",
       "    </tr>\n",
       "    <tr>\n",
       "      <th>4</th>\n",
       "      <td>180.8</td>\n",
       "      <td>10.8</td>\n",
       "      <td>58.4</td>\n",
       "      <td>12.9</td>\n",
       "    </tr>\n",
       "  </tbody>\n",
       "</table>\n",
       "</div>"
      ],
      "text/plain": [
       "   TV_Ad_Budget  Radio_Ad_Budget  Newspaper_Ad_Budget  Sales\n",
       "0         230.1             37.8                 69.2   22.1\n",
       "1          44.5             39.3                 45.1   10.4\n",
       "2          17.2             45.9                 69.3    9.3\n",
       "3         151.5             41.3                 58.5   18.5\n",
       "4         180.8             10.8                 58.4   12.9"
      ]
     },
     "execution_count": 86,
     "metadata": {},
     "output_type": "execute_result"
    }
   ],
   "source": [
    "#Renaming column names for convenience:\n",
    "\n",
    "data.columns = ['TV_Ad_Budget', 'Radio_Ad_Budget', 'Newspaper_Ad_Budget', 'Sales']\n",
    "data.head()"
   ]
  },
  {
   "cell_type": "code",
   "execution_count": 87,
   "id": "b8ed675a",
   "metadata": {},
   "outputs": [
    {
     "name": "stdout",
     "output_type": "stream",
     "text": [
      "147.0425\n",
      "85.8542363149081\n",
      "404.60520894472427\n",
      "-110.52020894472432\n"
     ]
    },
    {
     "data": {
      "text/html": [
       "<div>\n",
       "<style scoped>\n",
       "    .dataframe tbody tr th:only-of-type {\n",
       "        vertical-align: middle;\n",
       "    }\n",
       "\n",
       "    .dataframe tbody tr th {\n",
       "        vertical-align: top;\n",
       "    }\n",
       "\n",
       "    .dataframe thead th {\n",
       "        text-align: right;\n",
       "    }\n",
       "</style>\n",
       "<table border=\"1\" class=\"dataframe\">\n",
       "  <thead>\n",
       "    <tr style=\"text-align: right;\">\n",
       "      <th></th>\n",
       "      <th>TV_Ad_Budget</th>\n",
       "      <th>Radio_Ad_Budget</th>\n",
       "      <th>Newspaper_Ad_Budget</th>\n",
       "      <th>Sales</th>\n",
       "    </tr>\n",
       "  </thead>\n",
       "  <tbody>\n",
       "  </tbody>\n",
       "</table>\n",
       "</div>"
      ],
      "text/plain": [
       "Empty DataFrame\n",
       "Columns: [TV_Ad_Budget, Radio_Ad_Budget, Newspaper_Ad_Budget, Sales]\n",
       "Index: []"
      ]
     },
     "execution_count": 87,
     "metadata": {},
     "output_type": "execute_result"
    }
   ],
   "source": [
    "#Outlier detection:\n",
    "#TV\n",
    "TV_mean = data.TV_Ad_Budget.mean()\n",
    "print(TV_mean)\n",
    "\n",
    "TV_std_dev = data.TV_Ad_Budget.std()\n",
    "print(TV_std_dev)\n",
    "\n",
    "print(TV_mean+3*TV_std_dev)\n",
    "print(TV_mean-3*TV_std_dev)\n",
    "\n",
    "data [(data.TV_Ad_Budget > TV_mean+3*TV_std_dev) | (data.TV_Ad_Budget < TV_mean-3*TV_std_dev)]\n",
    "\n",
    "\n"
   ]
  },
  {
   "cell_type": "markdown",
   "id": "36eee0de",
   "metadata": {},
   "source": [
    "No outlier in the data of TV Ad Budget."
   ]
  },
  {
   "cell_type": "code",
   "execution_count": 88,
   "id": "ef0cc4ea",
   "metadata": {},
   "outputs": [
    {
     "name": "stdout",
     "output_type": "stream",
     "text": [
      "23.264000000000024\n",
      "14.846809176168723\n",
      "67.8044275285062\n",
      "-21.276427528506147\n"
     ]
    },
    {
     "data": {
      "text/html": [
       "<div>\n",
       "<style scoped>\n",
       "    .dataframe tbody tr th:only-of-type {\n",
       "        vertical-align: middle;\n",
       "    }\n",
       "\n",
       "    .dataframe tbody tr th {\n",
       "        vertical-align: top;\n",
       "    }\n",
       "\n",
       "    .dataframe thead th {\n",
       "        text-align: right;\n",
       "    }\n",
       "</style>\n",
       "<table border=\"1\" class=\"dataframe\">\n",
       "  <thead>\n",
       "    <tr style=\"text-align: right;\">\n",
       "      <th></th>\n",
       "      <th>TV_Ad_Budget</th>\n",
       "      <th>Radio_Ad_Budget</th>\n",
       "      <th>Newspaper_Ad_Budget</th>\n",
       "      <th>Sales</th>\n",
       "    </tr>\n",
       "  </thead>\n",
       "  <tbody>\n",
       "  </tbody>\n",
       "</table>\n",
       "</div>"
      ],
      "text/plain": [
       "Empty DataFrame\n",
       "Columns: [TV_Ad_Budget, Radio_Ad_Budget, Newspaper_Ad_Budget, Sales]\n",
       "Index: []"
      ]
     },
     "execution_count": 88,
     "metadata": {},
     "output_type": "execute_result"
    }
   ],
   "source": [
    "#Radio\n",
    "Radio_mean = data.Radio_Ad_Budget.mean()\n",
    "print(Radio_mean)\n",
    "\n",
    "Radio_std_dev = data.Radio_Ad_Budget.std()\n",
    "print(Radio_std_dev)\n",
    "\n",
    "print(Radio_mean+3*Radio_std_dev)\n",
    "print(Radio_mean-3*Radio_std_dev)\n",
    "\n",
    "data [(data.Radio_Ad_Budget > Radio_mean+3*Radio_std_dev) | (data.Radio_Ad_Budget < Radio_mean-3*Radio_std_dev) ]\n",
    "\n",
    "\n"
   ]
  },
  {
   "cell_type": "markdown",
   "id": "3cefdaca",
   "metadata": {},
   "source": [
    "No outlier in the data of Radio Ad Budget."
   ]
  },
  {
   "cell_type": "code",
   "execution_count": 124,
   "id": "c693f665",
   "metadata": {},
   "outputs": [
    {
     "name": "stdout",
     "output_type": "stream",
     "text": [
      "30.553999999999995\n",
      "21.778620838522833\n",
      "95.8898625155685\n",
      "-34.7818625155685\n"
     ]
    },
    {
     "data": {
      "text/html": [
       "<div>\n",
       "<style scoped>\n",
       "    .dataframe tbody tr th:only-of-type {\n",
       "        vertical-align: middle;\n",
       "    }\n",
       "\n",
       "    .dataframe tbody tr th {\n",
       "        vertical-align: top;\n",
       "    }\n",
       "\n",
       "    .dataframe thead th {\n",
       "        text-align: right;\n",
       "    }\n",
       "</style>\n",
       "<table border=\"1\" class=\"dataframe\">\n",
       "  <thead>\n",
       "    <tr style=\"text-align: right;\">\n",
       "      <th></th>\n",
       "      <th>TV_Ad_Budget</th>\n",
       "      <th>Radio_Ad_Budget</th>\n",
       "      <th>Newspaper_Ad_Budget</th>\n",
       "      <th>Sales</th>\n",
       "      <th>zscore</th>\n",
       "      <th>zscore_Sales</th>\n",
       "    </tr>\n",
       "  </thead>\n",
       "  <tbody>\n",
       "    <tr>\n",
       "      <th>16</th>\n",
       "      <td>67.8</td>\n",
       "      <td>36.6</td>\n",
       "      <td>114.0</td>\n",
       "      <td>12.5</td>\n",
       "      <td>-0.291809</td>\n",
       "      <td>-0.291809</td>\n",
       "    </tr>\n",
       "    <tr>\n",
       "      <th>101</th>\n",
       "      <td>296.4</td>\n",
       "      <td>36.3</td>\n",
       "      <td>100.9</td>\n",
       "      <td>23.8</td>\n",
       "      <td>1.873997</td>\n",
       "      <td>1.873997</td>\n",
       "    </tr>\n",
       "  </tbody>\n",
       "</table>\n",
       "</div>"
      ],
      "text/plain": [
       "     TV_Ad_Budget  Radio_Ad_Budget  Newspaper_Ad_Budget  Sales    zscore  \\\n",
       "16           67.8             36.6                114.0   12.5 -0.291809   \n",
       "101         296.4             36.3                100.9   23.8  1.873997   \n",
       "\n",
       "     zscore_Sales  \n",
       "16      -0.291809  \n",
       "101      1.873997  "
      ]
     },
     "execution_count": 124,
     "metadata": {},
     "output_type": "execute_result"
    }
   ],
   "source": [
    "#Newspaper\n",
    "Newspaper_mean = data.Newspaper_Ad_Budget.mean()\n",
    "print(Newspaper_mean)\n",
    "\n",
    "Newspaper_std_dev = data.Newspaper_Ad_Budget.std()\n",
    "print(Newspaper_std_dev)\n",
    "\n",
    "print(Newspaper_mean+3*Newspaper_std_dev)\n",
    "print(Newspaper_mean-3*Newspaper_std_dev)\n",
    "\n",
    "data [(data.Newspaper_Ad_Budget > Newspaper_mean+3*Newspaper_std_dev) | (data.Newspaper_Ad_Budget < Newspaper_mean-3*Newspaper_std_dev)]\n",
    "\n",
    "\n"
   ]
  },
  {
   "cell_type": "markdown",
   "id": "538e30da",
   "metadata": {},
   "source": [
    "Clearly, there are two outlier values in Newspaper Ad Budget data which need to be removed."
   ]
  },
  {
   "cell_type": "code",
   "execution_count": 125,
   "id": "1f8dfc76",
   "metadata": {},
   "outputs": [
    {
     "data": {
      "text/html": [
       "<div>\n",
       "<style scoped>\n",
       "    .dataframe tbody tr th:only-of-type {\n",
       "        vertical-align: middle;\n",
       "    }\n",
       "\n",
       "    .dataframe tbody tr th {\n",
       "        vertical-align: top;\n",
       "    }\n",
       "\n",
       "    .dataframe thead th {\n",
       "        text-align: right;\n",
       "    }\n",
       "</style>\n",
       "<table border=\"1\" class=\"dataframe\">\n",
       "  <thead>\n",
       "    <tr style=\"text-align: right;\">\n",
       "      <th></th>\n",
       "      <th>TV_Ad_Budget</th>\n",
       "      <th>Radio_Ad_Budget</th>\n",
       "      <th>Newspaper_Ad_Budget</th>\n",
       "      <th>Sales</th>\n",
       "      <th>zscore</th>\n",
       "      <th>zscore_Sales</th>\n",
       "    </tr>\n",
       "  </thead>\n",
       "  <tbody>\n",
       "  </tbody>\n",
       "</table>\n",
       "</div>"
      ],
      "text/plain": [
       "Empty DataFrame\n",
       "Columns: [TV_Ad_Budget, Radio_Ad_Budget, Newspaper_Ad_Budget, Sales, zscore, zscore_Sales]\n",
       "Index: []"
      ]
     },
     "execution_count": 125,
     "metadata": {},
     "output_type": "execute_result"
    }
   ],
   "source": [
    "#Alternative way to identify outliers:\n",
    "#Sales\n",
    "data['zscore_Sales'] = (data.Sales - data.Sales.mean())/data.Sales.std()\n",
    "data[(data.zscore_Sales< -3) | (data.zscore_Sales> 3)]\n"
   ]
  },
  {
   "cell_type": "markdown",
   "id": "4341955d",
   "metadata": {},
   "source": [
    "No outlier in the data of Sales."
   ]
  },
  {
   "cell_type": "code",
   "execution_count": 126,
   "id": "1e5f65ff",
   "metadata": {},
   "outputs": [
    {
     "data": {
      "text/html": [
       "<div>\n",
       "<style scoped>\n",
       "    .dataframe tbody tr th:only-of-type {\n",
       "        vertical-align: middle;\n",
       "    }\n",
       "\n",
       "    .dataframe tbody tr th {\n",
       "        vertical-align: top;\n",
       "    }\n",
       "\n",
       "    .dataframe thead th {\n",
       "        text-align: right;\n",
       "    }\n",
       "</style>\n",
       "<table border=\"1\" class=\"dataframe\">\n",
       "  <thead>\n",
       "    <tr style=\"text-align: right;\">\n",
       "      <th></th>\n",
       "      <th>TV_Ad_Budget</th>\n",
       "      <th>Radio_Ad_Budget</th>\n",
       "      <th>Newspaper_Ad_Budget</th>\n",
       "      <th>Sales</th>\n",
       "      <th>zscore</th>\n",
       "      <th>zscore_Sales</th>\n",
       "    </tr>\n",
       "  </thead>\n",
       "  <tbody>\n",
       "    <tr>\n",
       "      <th>0</th>\n",
       "      <td>230.1</td>\n",
       "      <td>37.8</td>\n",
       "      <td>69.2</td>\n",
       "      <td>22.1</td>\n",
       "      <td>1.548168</td>\n",
       "      <td>1.548168</td>\n",
       "    </tr>\n",
       "    <tr>\n",
       "      <th>1</th>\n",
       "      <td>44.5</td>\n",
       "      <td>39.3</td>\n",
       "      <td>45.1</td>\n",
       "      <td>10.4</td>\n",
       "      <td>-0.694304</td>\n",
       "      <td>-0.694304</td>\n",
       "    </tr>\n",
       "    <tr>\n",
       "      <th>2</th>\n",
       "      <td>17.2</td>\n",
       "      <td>45.9</td>\n",
       "      <td>69.3</td>\n",
       "      <td>9.3</td>\n",
       "      <td>-0.905135</td>\n",
       "      <td>-0.905135</td>\n",
       "    </tr>\n",
       "    <tr>\n",
       "      <th>3</th>\n",
       "      <td>151.5</td>\n",
       "      <td>41.3</td>\n",
       "      <td>58.5</td>\n",
       "      <td>18.5</td>\n",
       "      <td>0.858177</td>\n",
       "      <td>0.858177</td>\n",
       "    </tr>\n",
       "    <tr>\n",
       "      <th>4</th>\n",
       "      <td>180.8</td>\n",
       "      <td>10.8</td>\n",
       "      <td>58.4</td>\n",
       "      <td>12.9</td>\n",
       "      <td>-0.215143</td>\n",
       "      <td>-0.215143</td>\n",
       "    </tr>\n",
       "    <tr>\n",
       "      <th>...</th>\n",
       "      <td>...</td>\n",
       "      <td>...</td>\n",
       "      <td>...</td>\n",
       "      <td>...</td>\n",
       "      <td>...</td>\n",
       "      <td>...</td>\n",
       "    </tr>\n",
       "    <tr>\n",
       "      <th>195</th>\n",
       "      <td>38.2</td>\n",
       "      <td>3.7</td>\n",
       "      <td>13.8</td>\n",
       "      <td>7.6</td>\n",
       "      <td>-1.230964</td>\n",
       "      <td>-1.230964</td>\n",
       "    </tr>\n",
       "    <tr>\n",
       "      <th>196</th>\n",
       "      <td>94.2</td>\n",
       "      <td>4.9</td>\n",
       "      <td>8.1</td>\n",
       "      <td>9.7</td>\n",
       "      <td>-0.828469</td>\n",
       "      <td>-0.828469</td>\n",
       "    </tr>\n",
       "    <tr>\n",
       "      <th>197</th>\n",
       "      <td>177.0</td>\n",
       "      <td>9.3</td>\n",
       "      <td>6.4</td>\n",
       "      <td>12.8</td>\n",
       "      <td>-0.234310</td>\n",
       "      <td>-0.234310</td>\n",
       "    </tr>\n",
       "    <tr>\n",
       "      <th>198</th>\n",
       "      <td>283.6</td>\n",
       "      <td>42.0</td>\n",
       "      <td>66.2</td>\n",
       "      <td>25.5</td>\n",
       "      <td>2.199827</td>\n",
       "      <td>2.199827</td>\n",
       "    </tr>\n",
       "    <tr>\n",
       "      <th>199</th>\n",
       "      <td>232.1</td>\n",
       "      <td>8.6</td>\n",
       "      <td>8.7</td>\n",
       "      <td>13.4</td>\n",
       "      <td>-0.119311</td>\n",
       "      <td>-0.119311</td>\n",
       "    </tr>\n",
       "  </tbody>\n",
       "</table>\n",
       "<p>198 rows × 6 columns</p>\n",
       "</div>"
      ],
      "text/plain": [
       "     TV_Ad_Budget  Radio_Ad_Budget  Newspaper_Ad_Budget  Sales    zscore  \\\n",
       "0           230.1             37.8                 69.2   22.1  1.548168   \n",
       "1            44.5             39.3                 45.1   10.4 -0.694304   \n",
       "2            17.2             45.9                 69.3    9.3 -0.905135   \n",
       "3           151.5             41.3                 58.5   18.5  0.858177   \n",
       "4           180.8             10.8                 58.4   12.9 -0.215143   \n",
       "..            ...              ...                  ...    ...       ...   \n",
       "195          38.2              3.7                 13.8    7.6 -1.230964   \n",
       "196          94.2              4.9                  8.1    9.7 -0.828469   \n",
       "197         177.0              9.3                  6.4   12.8 -0.234310   \n",
       "198         283.6             42.0                 66.2   25.5  2.199827   \n",
       "199         232.1              8.6                  8.7   13.4 -0.119311   \n",
       "\n",
       "     zscore_Sales  \n",
       "0        1.548168  \n",
       "1       -0.694304  \n",
       "2       -0.905135  \n",
       "3        0.858177  \n",
       "4       -0.215143  \n",
       "..            ...  \n",
       "195     -1.230964  \n",
       "196     -0.828469  \n",
       "197     -0.234310  \n",
       "198      2.199827  \n",
       "199     -0.119311  \n",
       "\n",
       "[198 rows x 6 columns]"
      ]
     },
     "execution_count": 126,
     "metadata": {},
     "output_type": "execute_result"
    }
   ],
   "source": [
    "#Removing the outlier values of Newspaper_Ad_Budget:\n",
    "\n",
    "data_no_outlier = data [(data.Newspaper_Ad_Budget < Newspaper_mean+3*Newspaper_std_dev) & (data.Newspaper_Ad_Budget > Newspaper_mean-3*Newspaper_std_dev)]\n",
    "data_no_outlier\n"
   ]
  },
  {
   "cell_type": "markdown",
   "id": "99e8590c",
   "metadata": {},
   "source": [
    "#### Visualising the data"
   ]
  },
  {
   "cell_type": "code",
   "execution_count": 92,
   "id": "334a186c",
   "metadata": {},
   "outputs": [
    {
     "data": {
      "image/png": "[encoded data removed]",
      "text/plain": [
       "<Figure size 432x288 with 1 Axes>"
      ]
     },
     "metadata": {
      "needs_background": "light"
     },
     "output_type": "display_data"
    }
   ],
   "source": [
    "#Distribution of TV Ad Budget:\n",
    "\n",
    "data_no_outlier['TV_Ad_Budget'].plot.hist()\n",
    "plt.title('Distribution of TV Ad Budget')\n",
    "plt.xlabel('TV Ad Budget')\n",
    "plt.ylabel('Frequency')\n",
    "plt.show()"
   ]
  },
  {
   "cell_type": "markdown",
   "id": "15cfe40a",
   "metadata": {},
   "source": [
    "Clearly, the TV Ad Budget is upto $300."
   ]
  },
  {
   "cell_type": "code",
   "execution_count": 93,
   "id": "d8ca58e0",
   "metadata": {},
   "outputs": [
    {
     "data": {
      "image/png": "[encoded data removed]",
      "text/plain": [
       "<Figure size 432x288 with 1 Axes>"
      ]
     },
     "metadata": {
      "needs_background": "light"
     },
     "output_type": "display_data"
    }
   ],
   "source": [
    "#Distribution of Radio Ad Budget:\n",
    "\n",
    "data_no_outlier['Radio_Ad_Budget'].plot.hist()\n",
    "plt.title('Distribution of Radio Ad Budget')\n",
    "plt.xlabel('Radio Ad Budget')\n",
    "plt.ylabel('Frequency')\n",
    "plt.show()"
   ]
  },
  {
   "cell_type": "markdown",
   "id": "8e0bf3df",
   "metadata": {},
   "source": [
    "The Radio Ad Budget contributes very less (as compared to that of TV)- upto $50 to the overall budget."
   ]
  },
  {
   "cell_type": "code",
   "execution_count": 94,
   "id": "565aa20a",
   "metadata": {},
   "outputs": [
    {
     "data": {
      "image/png": "[encoded data removed]",
      "text/plain": [
       "<Figure size 432x288 with 1 Axes>"
      ]
     },
     "metadata": {
      "needs_background": "light"
     },
     "output_type": "display_data"
    }
   ],
   "source": [
    "#Distribution of Newspaper Ad Budget:\n",
    "\n",
    "data_no_outlier['Newspaper_Ad_Budget'].plot.hist()\n",
    "plt.title('Distribution of Newspaper Ad Budget')\n",
    "plt.xlabel('Newspaper Ad Budget')\n",
    "plt.ylabel('Frequency')\n",
    "plt.show()"
   ]
  },
  {
   "cell_type": "markdown",
   "id": "07a3b6b8",
   "metadata": {},
   "source": [
    "The Newspaper Ad Budget also contributes less (upto around $90) to the overall budget."
   ]
  },
  {
   "cell_type": "code",
   "execution_count": 95,
   "id": "f2dff2c6",
   "metadata": {},
   "outputs": [
    {
     "data": {
      "image/png": "[encoded data removed]",
      "text/plain": [
       "<Figure size 432x288 with 1 Axes>"
      ]
     },
     "metadata": {
      "needs_background": "light"
     },
     "output_type": "display_data"
    }
   ],
   "source": [
    "#Distribution of Sales:\n",
    "\n",
    "data_no_outlier['Sales'].plot.hist()\n",
    "plt.title('Distribution of Sales')\n",
    "plt.xlabel('Sales')\n",
    "plt.ylabel('Frequency')\n",
    "plt.show()"
   ]
  },
  {
   "cell_type": "markdown",
   "id": "f01570cc",
   "metadata": {},
   "source": [
    "The Sales is upto around $30."
   ]
  },
  {
   "cell_type": "code",
   "execution_count": 96,
   "id": "dc1e14c1",
   "metadata": {},
   "outputs": [
    {
     "data": {
      "text/plain": [
       "<AxesSubplot:>"
      ]
     },
     "execution_count": 96,
     "metadata": {},
     "output_type": "execute_result"
    },
    {
     "data": {
      "image/png": "[encoded data removed]",
      "text/plain": [
       "<Figure size 432x288 with 2 Axes>"
      ]
     },
     "metadata": {
      "needs_background": "light"
     },
     "output_type": "display_data"
    }
   ],
   "source": [
    "#Correlation Plot:\n",
    "\n",
    "sns.heatmap(data_no_outlier.corr(), annot=True)"
   ]
  },
  {
   "cell_type": "markdown",
   "id": "1e18631e",
   "metadata": {},
   "source": [
    "This plot clearly indicates that TV Ad Budget highly correlates with the Sales. The Radio Ad Budget is also an important feature but the Newspaper Ad Budget correlates very less with the Sales."
   ]
  },
  {
   "cell_type": "code",
   "execution_count": 97,
   "id": "cc3b629c",
   "metadata": {},
   "outputs": [
    {
     "data": {
      "text/plain": [
       "<seaborn.axisgrid.FacetGrid at 0x1cfc88b53a0>"
      ]
     },
     "execution_count": 97,
     "metadata": {},
     "output_type": "execute_result"
    },
    {
     "data": {
      "image/png": "[encoded data removed]",
      "text/plain": [
       "<Figure size 360x360 with 1 Axes>"
      ]
     },
     "metadata": {},
     "output_type": "display_data"
    },
    {
     "data": {
      "image/png": "[encoded data removed]",
      "text/plain": [
       "<Figure size 360x360 with 1 Axes>"
      ]
     },
     "metadata": {},
     "output_type": "display_data"
    },
    {
     "data": {
      "image/png": "[encoded data removed]",
      "text/plain": [
       "<Figure size 360x360 with 1 Axes>"
      ]
     },
     "metadata": {},
     "output_type": "display_data"
    }
   ],
   "source": [
    "#Plotting regression plots each for TV, Radio and Newspaper Ad Budgets:\n",
    "\n",
    "sns.set_style('whitegrid')\n",
    "sns.lmplot(x ='TV_Ad_Budget', y ='Sales', data = data_no_outlier)\n",
    "\n",
    "sns.set_style('whitegrid')\n",
    "sns.lmplot(x ='Radio_Ad_Budget', y ='Sales', data = data_no_outlier)\n",
    "\n",
    "sns.set_style('whitegrid')\n",
    "sns.lmplot(x ='Newspaper_Ad_Budget', y ='Sales', data = data_no_outlier)"
   ]
  },
  {
   "cell_type": "markdown",
   "id": "a6496fba",
   "metadata": {},
   "source": [
    "The regression plots clearly show that TV Ad Budget and Radio Ad Budget are influential factors for Sales, but the Newspaper Ad Budget is not very important for Sales."
   ]
  },
  {
   "cell_type": "markdown",
   "id": "28c08819",
   "metadata": {},
   "source": [
    "#### Multiple Linear Regression Model"
   ]
  },
  {
   "cell_type": "code",
   "execution_count": 98,
   "id": "b6169d95",
   "metadata": {},
   "outputs": [],
   "source": [
    "from sklearn.linear_model import LinearRegression\n",
    "from sklearn.model_selection import train_test_split\n",
    "from sklearn.metrics import r2_score, mean_squared_error"
   ]
  },
  {
   "cell_type": "code",
   "execution_count": 99,
   "id": "02013b06",
   "metadata": {},
   "outputs": [],
   "source": [
    "#defining x and y values:\n",
    "\n",
    "x = data_no_outlier[['TV_Ad_Budget', 'Radio_Ad_Budget', 'Newspaper_Ad_Budget']].values\n",
    "y = data_no_outlier['Sales'].values"
   ]
  },
  {
   "cell_type": "code",
   "execution_count": 100,
   "id": "72be3937",
   "metadata": {},
   "outputs": [],
   "source": [
    "#Splitting the data into training and testing datasets (75% training data and 25% testing data):\n",
    "\n",
    "x_train, x_test, y_train, y_test = train_test_split(x, y, test_size=0.25, random_state=1)"
   ]
  },
  {
   "cell_type": "code",
   "execution_count": 101,
   "id": "7a35d47f",
   "metadata": {},
   "outputs": [],
   "source": [
    "#Training the model to predict the future sales:\n",
    "\n",
    "reg = LinearRegression().fit(x_train, y_train)\n",
    "y_pred = reg.predict(x_test)                    #Prediction of y value corresponding to Sales"
   ]
  },
  {
   "cell_type": "code",
   "execution_count": 102,
   "id": "28606c27",
   "metadata": {},
   "outputs": [
    {
     "name": "stdout",
     "output_type": "stream",
     "text": [
      "LinearRegression()\n"
     ]
    }
   ],
   "source": [
    "print(reg)"
   ]
  },
  {
   "cell_type": "code",
   "execution_count": 103,
   "id": "a353bb3d",
   "metadata": {},
   "outputs": [
    {
     "name": "stdout",
     "output_type": "stream",
     "text": [
      "The regression coefficient is: [ 0.04764663  0.1869678  -0.0029567 ]\n"
     ]
    }
   ],
   "source": [
    "print('The regression coefficient is:', reg.coef_)"
   ]
  },
  {
   "cell_type": "markdown",
   "id": "a335f752",
   "metadata": {},
   "source": [
    "These are the regression coefficient values for TV, Radio and Newspaper Ad Budgets respectively."
   ]
  },
  {
   "cell_type": "code",
   "execution_count": 104,
   "id": "af9058a6",
   "metadata": {},
   "outputs": [
    {
     "name": "stdout",
     "output_type": "stream",
     "text": [
      "r2_score is: 0.9495213632446692\n",
      "Mean Squared Error is: 2.420963861796851\n"
     ]
    }
   ],
   "source": [
    "print('r2_score is:', np.sqrt(r2_score(y_test, y_pred)))\n",
    "print('Mean Squared Error is:', mean_squared_error(y_test, y_pred))"
   ]
  },
  {
   "cell_type": "markdown",
   "id": "bd18f17c",
   "metadata": {},
   "source": [
    "r2 score is around 95% but the mean squared error is around 2.4. The r2 score measures the proportion of variation in the dependent variable (Sales) which can be attributed to the independent variable (TV, Radio and Newspaper Ad Budgets). The Mean Squared Error measures how close a regression line is to the given data points."
   ]
  },
  {
   "cell_type": "code",
   "execution_count": 105,
   "id": "5db0112c",
   "metadata": {},
   "outputs": [
    {
     "name": "stdout",
     "output_type": "stream",
     "text": [
      "[20.56095013]\n"
     ]
    }
   ],
   "source": [
    "#Predicting the future sales:\n",
    "\n",
    "Predicted_Sales = reg.predict([[230.1, 37.8, 69.2]])\n",
    "print(Predicted_Sales)"
   ]
  },
  {
   "cell_type": "markdown",
   "id": "db315e9d",
   "metadata": {},
   "source": [
    "If TV Ad Budget is 230.1 dollars, Radio Ad Budget is 37.8 dollars and the Newspaper Ad Budget is 69.2 dollars, the model predicts that the sales would be approximately 20.6 dollars."
   ]
  },
  {
   "cell_type": "markdown",
   "id": "0e45a807",
   "metadata": {},
   "source": [
    "# Insights\n"
   ]
  },
  {
   "cell_type": "markdown",
   "id": "b8153ac3",
   "metadata": {},
   "source": [
    "TV Ad Budget and Radio Ad Budgets are important factors for predicting the sales, while Newspaper Ad Budget is not that much important for sales prediction.\n",
    "The sales can be predicted with the given model."
   ]
  }
 ],
 "metadata": {
  "kernelspec": {
   "display_name": "Python 3 (ipykernel)",
   "language": "python",
   "name": "python3"
  },
  "language_info": {
   "codemirror_mode": {
    "name": "ipython",
    "version": 3
   },
   "file_extension": ".py",
   "mimetype": "text/x-python",
   "name": "python",
   "nbconvert_exporter": "python",
   "pygments_lexer": "ipython3",
   "version": "3.9.12"
  }
 },
 "nbformat": 4,
 "nbformat_minor": 5
}
