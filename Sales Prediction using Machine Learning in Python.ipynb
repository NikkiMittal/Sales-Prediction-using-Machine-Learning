{
 "cells": [
  {
   "cell_type": "markdown",
   "id": "600e7d0a",
   "metadata": {},
   "source": [
    "# Sales Prediction Using Machine Learning"
   ]
  },
  {
   "cell_type": "code",
   "execution_count": 23,
   "id": "74bf8ddd",
   "metadata": {},
   "outputs": [],
   "source": [
    "#Importing the required libraries:\n",
    "  \n",
    "import numpy as np\n",
    "import pandas as pd\n",
    "import matplotlib.pyplot as plt\n",
    "import seaborn as sns\n",
    "%matplotlib inline\n",
    "from scipy import stats\n"
   ]
  },
  {
   "cell_type": "code",
   "execution_count": 16,
   "id": "9f9c3516",
   "metadata": {},
   "outputs": [
    {
     "name": "stdout",
     "output_type": "stream",
     "text": [
      "(200, 4)\n"
     ]
    },
    {
     "data": {
      "text/html": [
       "<div>\n",
       "<style scoped>\n",
       "    .dataframe tbody tr th:only-of-type {\n",
       "        vertical-align: middle;\n",
       "    }\n",
       "\n",
       "    .dataframe tbody tr th {\n",
       "        vertical-align: top;\n",
       "    }\n",
       "\n",
       "    .dataframe thead th {\n",
       "        text-align: right;\n",
       "    }\n",
       "</style>\n",
       "<table border=\"1\" class=\"dataframe\">\n",
       "  <thead>\n",
       "    <tr style=\"text-align: right;\">\n",
       "      <th></th>\n",
       "      <th>TV Ad Budget ($)</th>\n",
       "      <th>Radio Ad Budget ($)</th>\n",
       "      <th>Newspaper Ad Budget ($)</th>\n",
       "      <th>Sales ($)</th>\n",
       "    </tr>\n",
       "  </thead>\n",
       "  <tbody>\n",
       "    <tr>\n",
       "      <th>0</th>\n",
       "      <td>230.1</td>\n",
       "      <td>37.8</td>\n",
       "      <td>69.2</td>\n",
       "      <td>22.1</td>\n",
       "    </tr>\n",
       "    <tr>\n",
       "      <th>1</th>\n",
       "      <td>44.5</td>\n",
       "      <td>39.3</td>\n",
       "      <td>45.1</td>\n",
       "      <td>10.4</td>\n",
       "    </tr>\n",
       "    <tr>\n",
       "      <th>2</th>\n",
       "      <td>17.2</td>\n",
       "      <td>45.9</td>\n",
       "      <td>69.3</td>\n",
       "      <td>9.3</td>\n",
       "    </tr>\n",
       "    <tr>\n",
       "      <th>3</th>\n",
       "      <td>151.5</td>\n",
       "      <td>41.3</td>\n",
       "      <td>58.5</td>\n",
       "      <td>18.5</td>\n",
       "    </tr>\n",
       "    <tr>\n",
       "      <th>4</th>\n",
       "      <td>180.8</td>\n",
       "      <td>10.8</td>\n",
       "      <td>58.4</td>\n",
       "      <td>12.9</td>\n",
       "    </tr>\n",
       "  </tbody>\n",
       "</table>\n",
       "</div>"
      ],
      "text/plain": [
       "   TV Ad Budget ($)  Radio Ad Budget ($)  Newspaper Ad Budget ($)  Sales ($)\n",
       "0             230.1                 37.8                     69.2       22.1\n",
       "1              44.5                 39.3                     45.1       10.4\n",
       "2              17.2                 45.9                     69.3        9.3\n",
       "3             151.5                 41.3                     58.5       18.5\n",
       "4             180.8                 10.8                     58.4       12.9"
      ]
     },
     "execution_count": 16,
     "metadata": {},
     "output_type": "execute_result"
    }
   ],
   "source": [
    "#Reading data:\n",
    "\n",
    "data = pd.read_csv('Sales Data.csv')\n",
    "print(data.shape)                  #printing the number of rows and columns respectively\n",
    "data.head(5)                       #printing the top 5 rows"
   ]
  },
  {
   "cell_type": "code",
   "execution_count": 17,
   "id": "774d792b",
   "metadata": {},
   "outputs": [
    {
     "data": {
      "text/html": [
       "<div>\n",
       "<style scoped>\n",
       "    .dataframe tbody tr th:only-of-type {\n",
       "        vertical-align: middle;\n",
       "    }\n",
       "\n",
       "    .dataframe tbody tr th {\n",
       "        vertical-align: top;\n",
       "    }\n",
       "\n",
       "    .dataframe thead th {\n",
       "        text-align: right;\n",
       "    }\n",
       "</style>\n",
       "<table border=\"1\" class=\"dataframe\">\n",
       "  <thead>\n",
       "    <tr style=\"text-align: right;\">\n",
       "      <th></th>\n",
       "      <th>TV Ad Budget ($)</th>\n",
       "      <th>Radio Ad Budget ($)</th>\n",
       "      <th>Newspaper Ad Budget ($)</th>\n",
       "      <th>Sales ($)</th>\n",
       "    </tr>\n",
       "  </thead>\n",
       "  <tbody>\n",
       "    <tr>\n",
       "      <th>count</th>\n",
       "      <td>200.000000</td>\n",
       "      <td>200.000000</td>\n",
       "      <td>200.000000</td>\n",
       "      <td>200.000000</td>\n",
       "    </tr>\n",
       "    <tr>\n",
       "      <th>mean</th>\n",
       "      <td>147.042500</td>\n",
       "      <td>23.264000</td>\n",
       "      <td>30.554000</td>\n",
       "      <td>14.022500</td>\n",
       "    </tr>\n",
       "    <tr>\n",
       "      <th>std</th>\n",
       "      <td>85.854236</td>\n",
       "      <td>14.846809</td>\n",
       "      <td>21.778621</td>\n",
       "      <td>5.217457</td>\n",
       "    </tr>\n",
       "    <tr>\n",
       "      <th>min</th>\n",
       "      <td>0.700000</td>\n",
       "      <td>0.000000</td>\n",
       "      <td>0.300000</td>\n",
       "      <td>1.600000</td>\n",
       "    </tr>\n",
       "    <tr>\n",
       "      <th>25%</th>\n",
       "      <td>74.375000</td>\n",
       "      <td>9.975000</td>\n",
       "      <td>12.750000</td>\n",
       "      <td>10.375000</td>\n",
       "    </tr>\n",
       "    <tr>\n",
       "      <th>50%</th>\n",
       "      <td>149.750000</td>\n",
       "      <td>22.900000</td>\n",
       "      <td>25.750000</td>\n",
       "      <td>12.900000</td>\n",
       "    </tr>\n",
       "    <tr>\n",
       "      <th>75%</th>\n",
       "      <td>218.825000</td>\n",
       "      <td>36.525000</td>\n",
       "      <td>45.100000</td>\n",
       "      <td>17.400000</td>\n",
       "    </tr>\n",
       "    <tr>\n",
       "      <th>max</th>\n",
       "      <td>296.400000</td>\n",
       "      <td>49.600000</td>\n",
       "      <td>114.000000</td>\n",
       "      <td>27.000000</td>\n",
       "    </tr>\n",
       "  </tbody>\n",
       "</table>\n",
       "</div>"
      ],
      "text/plain": [
       "       TV Ad Budget ($)  Radio Ad Budget ($)  Newspaper Ad Budget ($)  \\\n",
       "count        200.000000           200.000000               200.000000   \n",
       "mean         147.042500            23.264000                30.554000   \n",
       "std           85.854236            14.846809                21.778621   \n",
       "min            0.700000             0.000000                 0.300000   \n",
       "25%           74.375000             9.975000                12.750000   \n",
       "50%          149.750000            22.900000                25.750000   \n",
       "75%          218.825000            36.525000                45.100000   \n",
       "max          296.400000            49.600000               114.000000   \n",
       "\n",
       "        Sales ($)  \n",
       "count  200.000000  \n",
       "mean    14.022500  \n",
       "std      5.217457  \n",
       "min      1.600000  \n",
       "25%     10.375000  \n",
       "50%     12.900000  \n",
       "75%     17.400000  \n",
       "max     27.000000  "
      ]
     },
     "execution_count": 17,
     "metadata": {},
     "output_type": "execute_result"
    }
   ],
   "source": [
    "#Understanding the data more:\n",
    "\n",
    "data.describe()    #for statistical description of data"
   ]
  },
  {
   "cell_type": "code",
   "execution_count": 18,
   "id": "e1c815e6",
   "metadata": {},
   "outputs": [
    {
     "name": "stdout",
     "output_type": "stream",
     "text": [
      "<class 'pandas.core.frame.DataFrame'>\n",
      "RangeIndex: 200 entries, 0 to 199\n",
      "Data columns (total 4 columns):\n",
      " #   Column                   Non-Null Count  Dtype  \n",
      "---  ------                   --------------  -----  \n",
      " 0   TV Ad Budget ($)         200 non-null    float64\n",
      " 1   Radio Ad Budget ($)      200 non-null    float64\n",
      " 2   Newspaper Ad Budget ($)  200 non-null    float64\n",
      " 3   Sales ($)                200 non-null    float64\n",
      "dtypes: float64(4)\n",
      "memory usage: 6.4 KB\n"
     ]
    }
   ],
   "source": [
    "#To check the need of data cleaning:\n",
    "\n",
    "data.info()      #gathering information about the non null count and data type"
   ]
  },
  {
   "cell_type": "code",
   "execution_count": 19,
   "id": "fcb62b3f",
   "metadata": {},
   "outputs": [
    {
     "data": {
      "text/plain": [
       "TV Ad Budget ($)           0\n",
       "Radio Ad Budget ($)        0\n",
       "Newspaper Ad Budget ($)    0\n",
       "Sales ($)                  0\n",
       "dtype: int64"
      ]
     },
     "execution_count": 19,
     "metadata": {},
     "output_type": "execute_result"
    }
   ],
   "source": [
    "data.isnull().sum()     #checking if there is any null value"
   ]
  },
  {
   "cell_type": "markdown",
   "id": "df147388",
   "metadata": {},
   "source": [
    "Here, we can clearly see that the dataset does not have any null or missing values. "
   ]
  },
  {
   "cell_type": "code",
   "execution_count": 24,
   "id": "ed04a4c4",
   "metadata": {},
   "outputs": [
    {
     "data": {
      "text/plain": [
       "<AxesSubplot:>"
      ]
     },
     "execution_count": 24,
     "metadata": {},
     "output_type": "execute_result"
    },
    {
     "data": {
      "image/png": "[encoded data removed]",
      "text/plain": [
       "<Figure size 432x288 with 2 Axes>"
      ]
     },
     "metadata": {
      "needs_background": "light"
     },
     "output_type": "display_data"
    }
   ],
   "source": [
    "sns.heatmap(data.isnull(), yticklabels = False)"
   ]
  },
  {
   "cell_type": "code",
   "execution_count": 20,
   "id": "1ee83d41",
   "metadata": {},
   "outputs": [
    {
     "data": {
      "text/plain": [
       "0      False\n",
       "1      False\n",
       "2      False\n",
       "3      False\n",
       "4      False\n",
       "       ...  \n",
       "195    False\n",
       "196    False\n",
       "197    False\n",
       "198    False\n",
       "199    False\n",
       "Length: 200, dtype: bool"
      ]
     },
     "execution_count": 20,
     "metadata": {},
     "output_type": "execute_result"
    }
   ],
   "source": [
    "#Checking if there is any duplicate value:\n",
    "\n",
    "data.duplicated()"
   ]
  },
  {
   "cell_type": "markdown",
   "id": "7db8035c",
   "metadata": {},
   "source": [
    "The dataset doesn't have any duplicate values."
   ]
  },
  {
   "cell_type": "code",
   "execution_count": 21,
   "id": "a67650f3",
   "metadata": {},
   "outputs": [
    {
     "data": {
      "text/html": [
       "<div>\n",
       "<style scoped>\n",
       "    .dataframe tbody tr th:only-of-type {\n",
       "        vertical-align: middle;\n",
       "    }\n",
       "\n",
       "    .dataframe tbody tr th {\n",
       "        vertical-align: top;\n",
       "    }\n",
       "\n",
       "    .dataframe thead th {\n",
       "        text-align: right;\n",
       "    }\n",
       "</style>\n",
       "<table border=\"1\" class=\"dataframe\">\n",
       "  <thead>\n",
       "    <tr style=\"text-align: right;\">\n",
       "      <th></th>\n",
       "      <th>TV_Ad_Budget</th>\n",
       "      <th>Radio_Ad_Budget</th>\n",
       "      <th>Newspaper_Ad_Budget</th>\n",
       "      <th>Sales</th>\n",
       "    </tr>\n",
       "  </thead>\n",
       "  <tbody>\n",
       "    <tr>\n",
       "      <th>0</th>\n",
       "      <td>230.1</td>\n",
       "      <td>37.8</td>\n",
       "      <td>69.2</td>\n",
       "      <td>22.1</td>\n",
       "    </tr>\n",
       "    <tr>\n",
       "      <th>1</th>\n",
       "      <td>44.5</td>\n",
       "      <td>39.3</td>\n",
       "      <td>45.1</td>\n",
       "      <td>10.4</td>\n",
       "    </tr>\n",
       "    <tr>\n",
       "      <th>2</th>\n",
       "      <td>17.2</td>\n",
       "      <td>45.9</td>\n",
       "      <td>69.3</td>\n",
       "      <td>9.3</td>\n",
       "    </tr>\n",
       "    <tr>\n",
       "      <th>3</th>\n",
       "      <td>151.5</td>\n",
       "      <td>41.3</td>\n",
       "      <td>58.5</td>\n",
       "      <td>18.5</td>\n",
       "    </tr>\n",
       "    <tr>\n",
       "      <th>4</th>\n",
       "      <td>180.8</td>\n",
       "      <td>10.8</td>\n",
       "      <td>58.4</td>\n",
       "      <td>12.9</td>\n",
       "    </tr>\n",
       "  </tbody>\n",
       "</table>\n",
       "</div>"
      ],
      "text/plain": [
       "   TV_Ad_Budget  Radio_Ad_Budget  Newspaper_Ad_Budget  Sales\n",
       "0         230.1             37.8                 69.2   22.1\n",
       "1          44.5             39.3                 45.1   10.4\n",
       "2          17.2             45.9                 69.3    9.3\n",
       "3         151.5             41.3                 58.5   18.5\n",
       "4         180.8             10.8                 58.4   12.9"
      ]
     },
     "execution_count": 21,
     "metadata": {},
     "output_type": "execute_result"
    }
   ],
   "source": [
    "#Renaming column names for convenience:\n",
    "\n",
    "data.columns = ['TV_Ad_Budget', 'Radio_Ad_Budget', 'Newspaper_Ad_Budget', 'Sales']\n",
    "data.head()"
   ]
  },
  {
   "cell_type": "markdown",
   "id": "d5418e4c",
   "metadata": {},
   "source": [
    "### Visualising the data"
   ]
  },
  {
   "cell_type": "code",
   "execution_count": 31,
   "id": "be345d45",
   "metadata": {},
   "outputs": [
    {
     "data": {
      "image/png": "[encoded data removed]",
      "text/plain": [
       "<Figure size 432x288 with 1 Axes>"
      ]
     },
     "metadata": {
      "needs_background": "light"
     },
     "output_type": "display_data"
    }
   ],
   "source": [
    "#Distribution of TV Ad Budget:\n",
    "\n",
    "data['TV_Ad_Budget'].plot.hist()\n",
    "plt.title('Distribution of TV Ad Budget')\n",
    "plt.xlabel('TV Ad Budget')\n",
    "plt.ylabel('Frequency')\n",
    "plt.show()\n",
    "\n"
   ]
  },
  {
   "cell_type": "markdown",
   "id": "9bda8027",
   "metadata": {},
   "source": [
    "Clearly, the TV Ad Budget is upto $300."
   ]
  },
  {
   "cell_type": "code",
   "execution_count": 29,
   "id": "6c69a8a4",
   "metadata": {},
   "outputs": [
    {
     "data": {
      "image/png": "[encoded data removed]",
      "text/plain": [
       "<Figure size 432x288 with 1 Axes>"
      ]
     },
     "metadata": {
      "needs_background": "light"
     },
     "output_type": "display_data"
    }
   ],
   "source": [
    "#Distribution of Radio Ad Budget:\n",
    "\n",
    "data['Radio_Ad_Budget'].plot.hist()\n",
    "plt.title('Distribution of Radio Ad Budget')\n",
    "plt.xlabel('Radio Ad Budget')\n",
    "plt.ylabel('Frequency')\n",
    "plt.show()\n",
    "\n"
   ]
  },
  {
   "cell_type": "markdown",
   "id": "b69b07f4",
   "metadata": {},
   "source": [
    "The Radio Ad Budget contributes very less (as compared to that of TV)- upto $50 to the overall budget."
   ]
  },
  {
   "cell_type": "code",
   "execution_count": 30,
   "id": "e6442f7a",
   "metadata": {},
   "outputs": [
    {
     "data": {
      "image/png": "[encoded data removed]",
      "text/plain": [
       "<Figure size 432x288 with 1 Axes>"
      ]
     },
     "metadata": {
      "needs_background": "light"
     },
     "output_type": "display_data"
    }
   ],
   "source": [
    "#Distribution of Radio Ad Budget:\n",
    "\n",
    "data['Newspaper_Ad_Budget'].plot.hist()\n",
    "plt.title('Distribution of Newspaper Ad Budget')\n",
    "plt.xlabel('Newspaper Ad Budget')\n",
    "plt.ylabel('Frequency')\n",
    "plt.show()"
   ]
  },
  {
   "cell_type": "markdown",
   "id": "0713f8a7",
   "metadata": {},
   "source": [
    "The Newspaper Ad Budget also contributes less (upto around $110) to the overall budget."
   ]
  },
  {
   "cell_type": "code",
   "execution_count": 38,
   "id": "48066cea",
   "metadata": {},
   "outputs": [
    {
     "data": {
      "image/png": "[encoded data removed]",
      "text/plain": [
       "<Figure size 432x288 with 1 Axes>"
      ]
     },
     "metadata": {
      "needs_background": "light"
     },
     "output_type": "display_data"
    }
   ],
   "source": [
    "#Distribution of Sales:\n",
    "\n",
    "data['Sales'].plot.hist()\n",
    "plt.title('Distribution of Sales')\n",
    "plt.xlabel('Sales')\n",
    "plt.ylabel('Frequency')\n",
    "plt.show()"
   ]
  },
  {
   "cell_type": "markdown",
   "id": "d8920ec0",
   "metadata": {},
   "source": [
    "The Sales is upto around $22."
   ]
  },
  {
   "cell_type": "code",
   "execution_count": 52,
   "id": "19396610",
   "metadata": {},
   "outputs": [
    {
     "data": {
      "text/plain": [
       "<AxesSubplot:>"
      ]
     },
     "execution_count": 52,
     "metadata": {},
     "output_type": "execute_result"
    },
    {
     "data": {
      "image/png": "[encoded data removed]",
      "text/plain": [
       "<Figure size 432x288 with 2 Axes>"
      ]
     },
     "metadata": {},
     "output_type": "display_data"
    }
   ],
   "source": [
    "#Correlation Plot:\n",
    "\n",
    "sns.heatmap(data.corr(), annot=True)"
   ]
  },
  {
   "cell_type": "markdown",
   "id": "1a2960c5",
   "metadata": {},
   "source": [
    "This plot clearly indicates that TV Ad Budget highly correlates with the Sales. The Radio Ad Budget is also an important feature but the Newspaper Ad Budget correlates very less with the Sales."
   ]
  },
  {
   "cell_type": "code",
   "execution_count": 41,
   "id": "ca6c4195",
   "metadata": {},
   "outputs": [
    {
     "ename": "SyntaxError",
     "evalue": "positional argument follows keyword argument (174526656.py, line 1)",
     "output_type": "error",
     "traceback": [
      "\u001b[1;36m  Input \u001b[1;32mIn [41]\u001b[1;36m\u001b[0m\n\u001b[1;33m    sns.pairplot(data, x_vars = 'TV_Ad_Budget', 'Radio_Ad_Budget', 'Newspaper_Ad_Budget', y_vars = 'Sales', height = 7, kind='reg')\u001b[0m\n\u001b[1;37m                                                                                                                                  ^\u001b[0m\n\u001b[1;31mSyntaxError\u001b[0m\u001b[1;31m:\u001b[0m positional argument follows keyword argument\n"
     ]
    }
   ],
   "source": [
    "sns.pairplot(data, x_vars = 'TV_Ad_Budget', 'Radio_Ad_Budget', 'Newspaper_Ad_Budget', y_vars = 'Sales', height = 7, kind='reg')"
   ]
  },
  {
   "cell_type": "code",
   "execution_count": 50,
   "id": "4480fa45",
   "metadata": {},
   "outputs": [
    {
     "data": {
      "text/plain": [
       "<seaborn.axisgrid.FacetGrid at 0x208a9b4cfd0>"
      ]
     },
     "execution_count": 50,
     "metadata": {},
     "output_type": "execute_result"
    },
    {
     "data": {
      "image/png": "[encoded data removed]",
      "text/plain": [
       "<Figure size 360x360 with 1 Axes>"
      ]
     },
     "metadata": {},
     "output_type": "display_data"
    },
    {
     "data": {
      "image/png": "[encoded data removed]",
      "text/plain": [
       "<Figure size 360x360 with 1 Axes>"
      ]
     },
     "metadata": {},
     "output_type": "display_data"
    },
    {
     "data": {
      "image/png": "[encoded data removed]",
      "text/plain": [
       "<Figure size 360x360 with 1 Axes>"
      ]
     },
     "metadata": {},
     "output_type": "display_data"
    }
   ],
   "source": [
    "#Plotting regression plots each for TV, Radio and Newspaper Ad Budgets:\n",
    "\n",
    "sns.set_style('whitegrid')\n",
    "sns.lmplot(x ='TV_Ad_Budget', y ='Sales', data = data)\n",
    "\n",
    "sns.set_style('whitegrid')\n",
    "sns.lmplot(x ='Radio_Ad_Budget', y ='Sales', data = data)\n",
    "\n",
    "sns.set_style('whitegrid')\n",
    "sns.lmplot(x ='Newspaper_Ad_Budget', y ='Sales', data = data)"
   ]
  },
  {
   "cell_type": "markdown",
   "id": "dca9e046",
   "metadata": {},
   "source": [
    "The regression plots clearly show that TV Ad Budget and Radio Ad Budget are influential factors for Sales, but the Newspaper Ad Budget is not very important for Sales."
   ]
  },
  {
   "cell_type": "markdown",
   "id": "8b56ba12",
   "metadata": {},
   "source": [
    "### Multiple Linear Regression Model"
   ]
  },
  {
   "cell_type": "code",
   "execution_count": 53,
   "id": "47876bf6",
   "metadata": {},
   "outputs": [],
   "source": [
    "from sklearn.linear_model import LinearRegression\n",
    "from sklearn.model_selection import train_test_split\n",
    "from sklearn.metrics import r2_score, mean_squared_error\n"
   ]
  },
  {
   "cell_type": "code",
   "execution_count": 55,
   "id": "aeee9a29",
   "metadata": {},
   "outputs": [],
   "source": [
    "#defining x and y values:\n",
    "\n",
    "x = data[['TV_Ad_Budget', 'Radio_Ad_Budget', 'Newspaper_Ad_Budget']].values\n",
    "y = data['Sales'].values\n",
    "\n"
   ]
  },
  {
   "cell_type": "code",
   "execution_count": 109,
   "id": "dbf57100",
   "metadata": {},
   "outputs": [],
   "source": [
    "#Splitting the data into training and testing datasets (70% training data and 30% testing data):\n",
    "\n",
    "x_train, x_test, y_train, y_test = train_test_split(x, y, test_size=0.30, random_state=1)"
   ]
  },
  {
   "cell_type": "code",
   "execution_count": 110,
   "id": "2ff6f266",
   "metadata": {},
   "outputs": [],
   "source": [
    "#Training the model to predict the future sales:\n",
    "\n",
    "reg = LinearRegression().fit(x_train, y_train)\n",
    "y_pred = reg.predict(x_test)                    #Prediction of y value corresponding to Sales\n"
   ]
  },
  {
   "cell_type": "code",
   "execution_count": 111,
   "id": "f9341293",
   "metadata": {},
   "outputs": [
    {
     "name": "stdout",
     "output_type": "stream",
     "text": [
      "LinearRegression()\n"
     ]
    }
   ],
   "source": [
    "print(reg)"
   ]
  },
  {
   "cell_type": "code",
   "execution_count": 112,
   "id": "86e2afe4",
   "metadata": {},
   "outputs": [
    {
     "name": "stdout",
     "output_type": "stream",
     "text": [
      "The regression coefficient is: [0.04695205 0.17658644 0.00185115]\n"
     ]
    }
   ],
   "source": [
    "print('The regression coefficient is:', reg.coef_)\n"
   ]
  },
  {
   "cell_type": "markdown",
   "id": "93cac0df",
   "metadata": {},
   "source": [
    "These are the regression coefficient values for TV, Radio and Newspaper Ad Budgets respectively."
   ]
  },
  {
   "cell_type": "code",
   "execution_count": 113,
   "id": "2033f6ff",
   "metadata": {},
   "outputs": [
    {
     "name": "stdout",
     "output_type": "stream",
     "text": [
      "r2_score is: 0.960448109280321\n",
      "Mean Squared Error is: 1.9289249074665737\n"
     ]
    }
   ],
   "source": [
    "print('r2_score is:', np.sqrt(r2_score(y_test, y_pred)))\n",
    "print('Mean Squared Error is:', mean_squared_error(y_test, y_pred))"
   ]
  },
  {
   "cell_type": "markdown",
   "id": "7a18a792",
   "metadata": {},
   "source": [
    "r2 score is around 96% but the mean squared error is around 1.9. \n",
    "The r2 score measures the proportion of variation in the dependent variable (Sales) which can be attributed to the independent variable (TV, Radio and Newspaper Ad Budgets).\n",
    "The Mean Squared Error measures how close a regression line is to the given data points. "
   ]
  },
  {
   "cell_type": "code",
   "execution_count": 116,
   "id": "8fa8bb11",
   "metadata": {},
   "outputs": [
    {
     "name": "stdout",
     "output_type": "stream",
     "text": [
      "[20.54394899]\n"
     ]
    }
   ],
   "source": [
    "#Predicting the future sales:\n",
    "\n",
    "Predicted_Sales = reg.predict([[230.1, 37.8, 69.2]])\n",
    "print(Predicted_Sales)\n",
    "\n"
   ]
  },
  {
   "cell_type": "markdown",
   "id": "03b1820d",
   "metadata": {},
   "source": [
    "If TV Ad Budget is 230.1 dollars, Radio Ad Budget is 37.8 dollars and the Newspaper Ad Budget is 69.2 dollars, the model predicts that the sales would be approximately 20.5 dollars."
   ]
  },
  {
   "cell_type": "markdown",
   "id": "fa8b72d3",
   "metadata": {},
   "source": [
    "## Insights:"
   ]
  },
  {
   "cell_type": "markdown",
   "id": "3a845e64",
   "metadata": {},
   "source": [
    "1. TV Ad Budget and Radio Ad Budgets are important factors for predicting the sales, while Newspaper Ad Budget is not that much important for sales prediction.\n",
    "2. The sales can be predicted with the given model."
   ]
  },
  {
   "cell_type": "code",
   "execution_count": null,
   "id": "4c77abb2",
   "metadata": {},
   "outputs": [],
   "source": []
  }
 ],
 "metadata": {
  "kernelspec": {
   "display_name": "Python 3 (ipykernel)",
   "language": "python",
   "name": "python3"
  },
  "language_info": {
   "codemirror_mode": {
    "name": "ipython",
    "version": 3
   },
   "file_extension": ".py",
   "mimetype": "text/x-python",
   "name": "python",
   "nbconvert_exporter": "python",
   "pygments_lexer": "ipython3",
   "version": "3.9.12"
  }
 },
 "nbformat": 4,
 "nbformat_minor": 5
}
